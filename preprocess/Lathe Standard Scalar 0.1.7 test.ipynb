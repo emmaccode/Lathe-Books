{
 "cells": [
  {
   "cell_type": "code",
   "execution_count": 9,
   "metadata": {},
   "outputs": [
    {
     "name": "stdout",
     "output_type": "stream",
     "text": [
      "\u001b[32m\u001b[1mStatus\u001b[22m\u001b[39m `~/.julia/environments/v1.5/Project.toml`\n",
      " \u001b[90m [336ed68f] \u001b[39m\u001b[37mCSV v0.8.3\u001b[39m\n",
      " \u001b[90m [a93c6f00] \u001b[39m\u001b[37mDataFrames v0.22.5\u001b[39m\n",
      " \u001b[90m [1313f7d8] \u001b[39m\u001b[37mDataFramesMeta v0.6.0\u001b[39m\n",
      " \u001b[90m [31c24e10] \u001b[39m\u001b[37mDistributions v0.24.13\u001b[39m\n",
      " \u001b[90m [7073ff75] \u001b[39m\u001b[37mIJulia v1.23.1\u001b[39m\n",
      " \u001b[90m [38d8eb38] \u001b[39m\u001b[37mLathe v0.1.7 `https://github.com/ChifiSource/Lathe.jl.git#Unstable`\u001b[39m\n",
      " \u001b[90m [91a5bcdd] \u001b[39m\u001b[37mPlots v1.10.5\u001b[39m\n",
      " \u001b[90m [37e2e46d] \u001b[39m\u001b[37mLinearAlgebra\u001b[39m\n"
     ]
    }
   ],
   "source": [
    "using Pkg; Pkg.status()"
   ]
  },
  {
   "cell_type": "code",
   "execution_count": 2,
   "metadata": {},
   "outputs": [
    {
     "data": {
      "text/html": [
       "<table class=\"data-frame\"><thead><tr><th></th><th>PassengerId</th><th>Survived</th><th>Pclass</th><th>Name</th></tr><tr><th></th><th>Int64</th><th>Int64</th><th>Int64</th><th>String</th></tr></thead><tbody><p>891 rows × 12 columns (omitted printing of 8 columns)</p><tr><th>1</th><td>1</td><td>0</td><td>3</td><td>Braund, Mr. Owen Harris</td></tr><tr><th>2</th><td>2</td><td>1</td><td>1</td><td>Cumings, Mrs. John Bradley (Florence Briggs Thayer)</td></tr><tr><th>3</th><td>3</td><td>1</td><td>3</td><td>Heikkinen, Miss. Laina</td></tr><tr><th>4</th><td>4</td><td>1</td><td>1</td><td>Futrelle, Mrs. Jacques Heath (Lily May Peel)</td></tr><tr><th>5</th><td>5</td><td>0</td><td>3</td><td>Allen, Mr. William Henry</td></tr><tr><th>6</th><td>6</td><td>0</td><td>3</td><td>Moran, Mr. James</td></tr><tr><th>7</th><td>7</td><td>0</td><td>1</td><td>McCarthy, Mr. Timothy J</td></tr><tr><th>8</th><td>8</td><td>0</td><td>3</td><td>Palsson, Master. Gosta Leonard</td></tr><tr><th>9</th><td>9</td><td>1</td><td>3</td><td>Johnson, Mrs. Oscar W (Elisabeth Vilhelmina Berg)</td></tr><tr><th>10</th><td>10</td><td>1</td><td>2</td><td>Nasser, Mrs. Nicholas (Adele Achem)</td></tr><tr><th>11</th><td>11</td><td>1</td><td>3</td><td>Sandstrom, Miss. Marguerite Rut</td></tr><tr><th>12</th><td>12</td><td>1</td><td>1</td><td>Bonnell, Miss. Elizabeth</td></tr><tr><th>13</th><td>13</td><td>0</td><td>3</td><td>Saundercock, Mr. William Henry</td></tr><tr><th>14</th><td>14</td><td>0</td><td>3</td><td>Andersson, Mr. Anders Johan</td></tr><tr><th>15</th><td>15</td><td>0</td><td>3</td><td>Vestrom, Miss. Hulda Amanda Adolfina</td></tr><tr><th>16</th><td>16</td><td>1</td><td>2</td><td>Hewlett, Mrs. (Mary D Kingcome) </td></tr><tr><th>17</th><td>17</td><td>0</td><td>3</td><td>Rice, Master. Eugene</td></tr><tr><th>18</th><td>18</td><td>1</td><td>2</td><td>Williams, Mr. Charles Eugene</td></tr><tr><th>19</th><td>19</td><td>0</td><td>3</td><td>Vander Planke, Mrs. Julius (Emelia Maria Vandemoortele)</td></tr><tr><th>20</th><td>20</td><td>1</td><td>3</td><td>Masselmani, Mrs. Fatima</td></tr><tr><th>21</th><td>21</td><td>0</td><td>2</td><td>Fynney, Mr. Joseph J</td></tr><tr><th>22</th><td>22</td><td>1</td><td>2</td><td>Beesley, Mr. Lawrence</td></tr><tr><th>23</th><td>23</td><td>1</td><td>3</td><td>McGowan, Miss. Anna \"Annie\"</td></tr><tr><th>24</th><td>24</td><td>1</td><td>1</td><td>Sloper, Mr. William Thompson</td></tr><tr><th>25</th><td>25</td><td>0</td><td>3</td><td>Palsson, Miss. Torborg Danira</td></tr><tr><th>26</th><td>26</td><td>1</td><td>3</td><td>Asplund, Mrs. Carl Oscar (Selma Augusta Emilia Johansson)</td></tr><tr><th>27</th><td>27</td><td>0</td><td>3</td><td>Emir, Mr. Farred Chehab</td></tr><tr><th>28</th><td>28</td><td>0</td><td>1</td><td>Fortune, Mr. Charles Alexander</td></tr><tr><th>29</th><td>29</td><td>1</td><td>3</td><td>O'Dwyer, Miss. Ellen \"Nellie\"</td></tr><tr><th>30</th><td>30</td><td>0</td><td>3</td><td>Todoroff, Mr. Lalio</td></tr><tr><th>&vellip;</th><td>&vellip;</td><td>&vellip;</td><td>&vellip;</td><td>&vellip;</td></tr></tbody></table>"
      ],
      "text/latex": [
       "\\begin{tabular}{r|ccccc}\n",
       "\t& PassengerId & Survived & Pclass & Name & \\\\\n",
       "\t\\hline\n",
       "\t& Int64 & Int64 & Int64 & String & \\\\\n",
       "\t\\hline\n",
       "\t1 & 1 & 0 & 3 & Braund, Mr. Owen Harris & $\\dots$ \\\\\n",
       "\t2 & 2 & 1 & 1 & Cumings, Mrs. John Bradley (Florence Briggs Thayer) & $\\dots$ \\\\\n",
       "\t3 & 3 & 1 & 3 & Heikkinen, Miss. Laina & $\\dots$ \\\\\n",
       "\t4 & 4 & 1 & 1 & Futrelle, Mrs. Jacques Heath (Lily May Peel) & $\\dots$ \\\\\n",
       "\t5 & 5 & 0 & 3 & Allen, Mr. William Henry & $\\dots$ \\\\\n",
       "\t6 & 6 & 0 & 3 & Moran, Mr. James & $\\dots$ \\\\\n",
       "\t7 & 7 & 0 & 1 & McCarthy, Mr. Timothy J & $\\dots$ \\\\\n",
       "\t8 & 8 & 0 & 3 & Palsson, Master. Gosta Leonard & $\\dots$ \\\\\n",
       "\t9 & 9 & 1 & 3 & Johnson, Mrs. Oscar W (Elisabeth Vilhelmina Berg) & $\\dots$ \\\\\n",
       "\t10 & 10 & 1 & 2 & Nasser, Mrs. Nicholas (Adele Achem) & $\\dots$ \\\\\n",
       "\t11 & 11 & 1 & 3 & Sandstrom, Miss. Marguerite Rut & $\\dots$ \\\\\n",
       "\t12 & 12 & 1 & 1 & Bonnell, Miss. Elizabeth & $\\dots$ \\\\\n",
       "\t13 & 13 & 0 & 3 & Saundercock, Mr. William Henry & $\\dots$ \\\\\n",
       "\t14 & 14 & 0 & 3 & Andersson, Mr. Anders Johan & $\\dots$ \\\\\n",
       "\t15 & 15 & 0 & 3 & Vestrom, Miss. Hulda Amanda Adolfina & $\\dots$ \\\\\n",
       "\t16 & 16 & 1 & 2 & Hewlett, Mrs. (Mary D Kingcome)  & $\\dots$ \\\\\n",
       "\t17 & 17 & 0 & 3 & Rice, Master. Eugene & $\\dots$ \\\\\n",
       "\t18 & 18 & 1 & 2 & Williams, Mr. Charles Eugene & $\\dots$ \\\\\n",
       "\t19 & 19 & 0 & 3 & Vander Planke, Mrs. Julius (Emelia Maria Vandemoortele) & $\\dots$ \\\\\n",
       "\t20 & 20 & 1 & 3 & Masselmani, Mrs. Fatima & $\\dots$ \\\\\n",
       "\t21 & 21 & 0 & 2 & Fynney, Mr. Joseph J & $\\dots$ \\\\\n",
       "\t22 & 22 & 1 & 2 & Beesley, Mr. Lawrence & $\\dots$ \\\\\n",
       "\t23 & 23 & 1 & 3 & McGowan, Miss. Anna \"Annie\" & $\\dots$ \\\\\n",
       "\t24 & 24 & 1 & 1 & Sloper, Mr. William Thompson & $\\dots$ \\\\\n",
       "\t25 & 25 & 0 & 3 & Palsson, Miss. Torborg Danira & $\\dots$ \\\\\n",
       "\t26 & 26 & 1 & 3 & Asplund, Mrs. Carl Oscar (Selma Augusta Emilia Johansson) & $\\dots$ \\\\\n",
       "\t27 & 27 & 0 & 3 & Emir, Mr. Farred Chehab & $\\dots$ \\\\\n",
       "\t28 & 28 & 0 & 1 & Fortune, Mr. Charles Alexander & $\\dots$ \\\\\n",
       "\t29 & 29 & 1 & 3 & O'Dwyer, Miss. Ellen \"Nellie\" & $\\dots$ \\\\\n",
       "\t30 & 30 & 0 & 3 & Todoroff, Mr. Lalio & $\\dots$ \\\\\n",
       "\t$\\dots$ & $\\dots$ & $\\dots$ & $\\dots$ & $\\dots$ &  \\\\\n",
       "\\end{tabular}\n"
      ],
      "text/plain": [
       "\u001b[1m891×12 DataFrame\u001b[0m\n",
       "\u001b[1m Row \u001b[0m│\u001b[1m PassengerId \u001b[0m\u001b[1m Survived \u001b[0m\u001b[1m Pclass \u001b[0m\u001b[1m Name                              \u001b[0m\u001b[1m Sex  \u001b[0m ⋯\n",
       "\u001b[1m     \u001b[0m│\u001b[90m Int64       \u001b[0m\u001b[90m Int64    \u001b[0m\u001b[90m Int64  \u001b[0m\u001b[90m String                            \u001b[0m\u001b[90m Strin\u001b[0m ⋯\n",
       "─────┼──────────────────────────────────────────────────────────────────────────\n",
       "   1 │           1         0       3  Braund, Mr. Owen Harris            male  ⋯\n",
       "   2 │           2         1       1  Cumings, Mrs. John Bradley (Flor…  femal\n",
       "   3 │           3         1       3  Heikkinen, Miss. Laina             femal\n",
       "   4 │           4         1       1  Futrelle, Mrs. Jacques Heath (Li…  femal\n",
       "   5 │           5         0       3  Allen, Mr. William Henry           male  ⋯\n",
       "   6 │           6         0       3  Moran, Mr. James                   male\n",
       "   7 │           7         0       1  McCarthy, Mr. Timothy J            male\n",
       "   8 │           8         0       3  Palsson, Master. Gosta Leonard     male\n",
       "   9 │           9         1       3  Johnson, Mrs. Oscar W (Elisabeth…  femal ⋯\n",
       "  10 │          10         1       2  Nasser, Mrs. Nicholas (Adele Ach…  femal\n",
       "  11 │          11         1       3  Sandstrom, Miss. Marguerite Rut    femal\n",
       "  ⋮  │      ⋮          ⋮        ⋮                     ⋮                    ⋮   ⋱\n",
       " 882 │         882         0       3  Markun, Mr. Johann                 male\n",
       " 883 │         883         0       3  Dahlberg, Miss. Gerda Ulrika       femal ⋯\n",
       " 884 │         884         0       2  Banfield, Mr. Frederick James      male\n",
       " 885 │         885         0       3  Sutehall, Mr. Henry Jr             male\n",
       " 886 │         886         0       3  Rice, Mrs. William (Margaret Nor…  femal\n",
       " 887 │         887         0       2  Montvila, Rev. Juozas              male  ⋯\n",
       " 888 │         888         1       1  Graham, Miss. Margaret Edith       femal\n",
       " 889 │         889         0       3  Johnston, Miss. Catherine Helen …  femal\n",
       " 890 │         890         1       1  Behr, Mr. Karl Howell              male\n",
       " 891 │         891         0       3  Dooley, Mr. Patrick                male  ⋯\n",
       "\u001b[36m                                                  8 columns and 870 rows omitted\u001b[0m"
      ]
     },
     "execution_count": 2,
     "metadata": {},
     "output_type": "execute_result"
    }
   ],
   "source": [
    "using Lathe.preprocess: StandardScaler\n",
    "using CSV, DataFrames\n",
    "csv_file = CSV.File(download(\"https://gist.githubusercontent.com/michhar/2dfd2de0d4f8727f873422c5d959fff5/raw/fa71405126017e6a37bea592440b4bee94bf7b9e/titanic.csv\")) # Read the data, use download() if the data from internet\n",
    "df = DataFrame(csv_file)"
   ]
  },
  {
   "cell_type": "code",
   "execution_count": 3,
   "metadata": {},
   "outputs": [
    {
     "name": "stdout",
     "output_type": "stream",
     "text": [
      "\u001b[1m891×12 DataFrame\u001b[0m\n",
      "\u001b[1m Row \u001b[0m│\u001b[1m PassengerId \u001b[0m\u001b[1m Survived \u001b[0m\u001b[1m Pclass \u001b[0m\u001b[1m Name                              \u001b[0m\u001b[1m Sex  \u001b[0m ⋯\n",
      "\u001b[1m     \u001b[0m│\u001b[90m Int64       \u001b[0m\u001b[90m Int64    \u001b[0m\u001b[90m Int64  \u001b[0m\u001b[90m String                            \u001b[0m\u001b[90m Strin\u001b[0m ⋯\n",
      "─────┼──────────────────────────────────────────────────────────────────────────\n",
      "   1 │           1         0       3  Braund, Mr. Owen Harris            male  ⋯\n",
      "   2 │           2         1       1  Cumings, Mrs. John Bradley (Flor…  femal\n",
      "   3 │           3         1       3  Heikkinen, Miss. Laina             femal\n",
      "   4 │           4         1       1  Futrelle, Mrs. Jacques Heath (Li…  femal\n",
      "   5 │           5         0       3  Allen, Mr. William Henry           male  ⋯\n",
      "   6 │           6         0       3  Moran, Mr. James                   male\n",
      "   7 │           7         0       1  McCarthy, Mr. Timothy J            male\n",
      "   8 │           8         0       3  Palsson, Master. Gosta Leonard     male\n",
      "   9 │           9         1       3  Johnson, Mrs. Oscar W (Elisabeth…  femal ⋯\n",
      "  10 │          10         1       2  Nasser, Mrs. Nicholas (Adele Ach…  femal\n",
      "  11 │          11         1       3  Sandstrom, Miss. Marguerite Rut    femal\n",
      "  ⋮  │      ⋮          ⋮        ⋮                     ⋮                    ⋮   ⋱\n",
      " 882 │         882         0       3  Markun, Mr. Johann                 male\n",
      " 883 │         883         0       3  Dahlberg, Miss. Gerda Ulrika       femal ⋯\n",
      " 884 │         884         0       2  Banfield, Mr. Frederick James      male\n",
      " 885 │         885         0       3  Sutehall, Mr. Henry Jr             male\n",
      " 886 │         886         0       3  Rice, Mrs. William (Margaret Nor…  femal\n",
      " 887 │         887         0       2  Montvila, Rev. Juozas              male  ⋯\n",
      " 888 │         888         1       1  Graham, Miss. Margaret Edith       femal\n",
      " 889 │         889         0       3  Johnston, Miss. Catherine Helen …  femal\n",
      " 890 │         890         1       1  Behr, Mr. Karl Howell              male\n",
      " 891 │         891         0       3  Dooley, Mr. Patrick                male  ⋯\n",
      "\u001b[36m                                                  8 columns and 870 rows omitted\u001b[0m"
     ]
    }
   ],
   "source": [
    "show(df)"
   ]
  },
  {
   "cell_type": "code",
   "execution_count": 6,
   "metadata": {},
   "outputs": [],
   "source": [
    "scaler = StandardScaler(df[!,:Fare]); #df[!,:Fare] is 891-element Array{Float64,1}"
   ]
  },
  {
   "cell_type": "code",
   "execution_count": 7,
   "metadata": {},
   "outputs": [
    {
     "name": "stdout",
     "output_type": "stream",
     "text": [
      "search:\n",
      "\n"
     ]
    },
    {
     "data": {
      "text/latex": [
       "\\subsection{Standard Scaler}\n",
       "\\subsubsection{Description}\n",
       "Normalizes an array using the z (Normal) distribution.\n",
       "\n",
       "\\rule{\\textwidth}{1pt}\n",
       "\\subsubsection{Input}\n",
       "StandardScaler(x)\n",
       "\n",
       "\\rule{\\textwidth}{1pt}\n",
       "\\paragraph{Positional Arguments}\n",
       "Array\\{Any\\} - x:: Array for which the original scaler should be based   off of.\n",
       "\n",
       "\\rule{\\textwidth}{1pt}\n",
       "\\subsubsection{Output}\n",
       "\\subsection{scalar :: A Lathe Preprocesser object.}\n",
       "\\subsubsection{Functions}\n",
       "Preprocesser.predict(xt) :: Applies the scaler to xt.\n",
       "\n",
       "\\rule{\\textwidth}{1pt}\n",
       "\\subsubsection{Data}\n",
       "dist  :: Returns the normal distribution object for which this scaler uses.\n",
       "\n"
      ],
      "text/markdown": [
       "## Standard Scaler\n",
       "\n",
       "### Description\n",
       "\n",
       "Normalizes an array using the z (Normal) distribution.\n",
       "\n",
       "---\n",
       "\n",
       "### Input\n",
       "\n",
       "StandardScaler(x)\n",
       "\n",
       "---\n",
       "\n",
       "#### Positional Arguments\n",
       "\n",
       "Array{Any} - x:: Array for which the original scaler should be based   off of.\n",
       "\n",
       "---\n",
       "\n",
       "### Output\n",
       "\n",
       "## scalar :: A Lathe Preprocesser object.\n",
       "\n",
       "### Functions\n",
       "\n",
       "Preprocesser.predict(xt) :: Applies the scaler to xt.\n",
       "\n",
       "---\n",
       "\n",
       "### Data\n",
       "\n",
       "dist  :: Returns the normal distribution object for which this scaler uses.\n"
      ],
      "text/plain": [
       "\u001b[1m  Standard Scaler\u001b[22m\n",
       "\u001b[1m  =================\u001b[22m\n",
       "\n",
       "\u001b[1m  Description\u001b[22m\n",
       "\u001b[1m  –––––––––––––\u001b[22m\n",
       "\n",
       "  Normalizes an array using the z (Normal) distribution.\n",
       "\n",
       "  ────────────────────────────────────────────────────────────────────────────\n",
       "\n",
       "\u001b[1m  Input\u001b[22m\n",
       "\u001b[1m  –––––––\u001b[22m\n",
       "\n",
       "  StandardScaler(x)\n",
       "\n",
       "  ────────────────────────────────────────────────────────────────────────────\n",
       "\n",
       "\u001b[1m  Positional Arguments\u001b[22m\n",
       "\u001b[1m  ----------------------\u001b[22m\n",
       "\n",
       "  Array{Any} - x:: Array for which the original scaler should be based off of.\n",
       "\n",
       "  ────────────────────────────────────────────────────────────────────────────\n",
       "\n",
       "\u001b[1m  Output\u001b[22m\n",
       "\u001b[1m  ––––––––\u001b[22m\n",
       "\n",
       "\u001b[1m  scalar :: A Lathe Preprocesser object.\u001b[22m\n",
       "\u001b[1m  ========================================\u001b[22m\n",
       "\n",
       "\u001b[1m  Functions\u001b[22m\n",
       "\u001b[1m  –––––––––––\u001b[22m\n",
       "\n",
       "  Preprocesser.predict(xt) :: Applies the scaler to xt.\n",
       "\n",
       "  ────────────────────────────────────────────────────────────────────────────\n",
       "\n",
       "\u001b[1m  Data\u001b[22m\n",
       "\u001b[1m  ––––––\u001b[22m\n",
       "\n",
       "  dist :: Returns the normal distribution object for which this scaler uses."
      ]
     },
     "execution_count": 7,
     "metadata": {},
     "output_type": "execute_result"
    }
   ],
   "source": [
    "?(StandardScaler)"
   ]
  },
  {
   "cell_type": "code",
   "execution_count": 8,
   "metadata": {},
   "outputs": [
    {
     "data": {
      "text/plain": [
       "891-element Array{Real,1}:\n",
       " -4.397314004059791\n",
       "  6.886335117192809\n",
       " -4.2783686559855\n",
       "  3.6821588984679834\n",
       " -4.256341739675446\n",
       " -4.184393020240286\n",
       "  3.464092426998449\n",
       " -1.9611370601678288\n",
       " -3.7130170112051326\n",
       " -0.3759391902319653\n",
       " -2.7320791310197157\n",
       " -0.9963581257874674\n",
       " -4.256341739675446\n",
       "  ⋮\n",
       "  8.978892166647931\n",
       " -1.0932765575517047\n",
       " -4.283514143635529\n",
       " -3.8216713839793663\n",
       " -3.8246141799983895\n",
       " -4.432557070155878\n",
       " -0.5426036498003569\n",
       " -3.3840758537973112\n",
       " -0.38841523562997954\n",
       " -1.5426256502768045\n",
       " -0.38841523562997954\n",
       " -4.309206338819576"
      ]
     },
     "execution_count": 8,
     "metadata": {},
     "output_type": "execute_result"
    }
   ],
   "source": [
    "# Apply our standard scaler:\n",
    "Scaled_Fare = scaler.predict(df[!,:Fare])"
   ]
  },
  {
   "cell_type": "code",
   "execution_count": null,
   "metadata": {},
   "outputs": [],
   "source": []
  }
 ],
 "metadata": {
  "kernelspec": {
   "display_name": "Julia 1.5.3",
   "language": "julia",
   "name": "julia-1.5"
  },
  "language_info": {
   "file_extension": ".jl",
   "mimetype": "application/julia",
   "name": "julia",
   "version": "1.5.3"
  }
 },
 "nbformat": 4,
 "nbformat_minor": 4
}
