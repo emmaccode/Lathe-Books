{
 "cells": [
  {
   "cell_type": "code",
   "execution_count": 1,
   "metadata": {},
   "outputs": [
    {
     "name": "stderr",
     "output_type": "stream",
     "text": [
      "--2021-02-17 03:00:56--  https://covid19.who.int/WHO-COVID-19-global-table-data.csv\n",
      "Resolving covid19.who.int (covid19.who.int)... 2600:9000:2006:fc00:9:10d7:1c80:93a1, 2600:9000:2006:9a00:9:10d7:1c80:93a1, 2600:9000:2006:f600:9:10d7:1c80:93a1, ...\n",
      "Connecting to covid19.who.int (covid19.who.int)|2600:9000:2006:fc00:9:10d7:1c80:93a1|:443... connected.\n",
      "HTTP request sent, awaiting response... 200 OK\n",
      "Length: 20749 (20K) [text/csv]\n",
      "Saving to: ‘WHO-COVID-19-global-table-data.csv.6’\n",
      "\n",
      "     0K .......... ..........                                 100%  284M=0s\n",
      "\n",
      "2021-02-17 03:00:57 (284 MB/s) - ‘WHO-COVID-19-global-table-data.csv.6’ saved [20749/20749]\n",
      "\n"
     ]
    },
    {
     "data": {
      "text/plain": [
       "Process(`\u001b[4mwget\u001b[24m \u001b[4mhttps://covid19.who.int/WHO-COVID-19-global-table-data.csv\u001b[24m`, ProcessExited(0))"
      ]
     },
     "execution_count": 1,
     "metadata": {},
     "output_type": "execute_result"
    }
   ],
   "source": [
    "using Base: run\n",
    "run(`wget https://covid19.who.int/WHO-COVID-19-global-table-data.csv`)"
   ]
  },
  {
   "cell_type": "code",
   "execution_count": 2,
   "metadata": {},
   "outputs": [
    {
     "name": "stderr",
     "output_type": "stream",
     "text": [
      "┌ Info: Precompiling DataFrames [a93c6f00-e57d-5684-b7b6-d8193f3e46c0]\n",
      "└ @ Base loading.jl:1278\n"
     ]
    },
    {
     "data": {
      "text/html": [
       "<table class=\"data-frame\"><thead><tr><th></th><th>Name</th><th>WHO Region</th><th>Cases - cumulative total</th><th>Cases - cumulative total per 100000 population</th></tr><tr><th></th><th>String</th><th>String?</th><th>Int64</th><th>Float64?</th></tr></thead><tbody><p>238 rows × 13 columns (omitted printing of 9 columns)</p><tr><th>1</th><td>Global</td><td><em>missing</em></td><td>108822960</td><td>1394.04</td></tr><tr><th>2</th><td>United States of America</td><td>Americas</td><td>27309503</td><td>8250.54</td></tr><tr><th>3</th><td>India</td><td>South-East Asia</td><td>10925710</td><td>791.72</td></tr><tr><th>4</th><td>Brazil</td><td>Americas</td><td>9834513</td><td>4626.71</td></tr><tr><th>5</th><td>Russian Federation</td><td>Europe</td><td>4099323</td><td>2809.02</td></tr><tr><th>6</th><td>The United Kingdom</td><td>Europe</td><td>4047847</td><td>5962.71</td></tr><tr><th>7</th><td>France</td><td>Europe</td><td>3410715</td><td>5225.27</td></tr><tr><th>8</th><td>Spain</td><td>Europe</td><td>3086286</td><td>6601.01</td></tr><tr><th>9</th><td>Italy</td><td>Europe</td><td>2729223</td><td>4513.96</td></tr><tr><th>10</th><td>Turkey</td><td>Europe</td><td>2594128</td><td>3075.83</td></tr><tr><th>11</th><td>Germany</td><td>Europe</td><td>2342843</td><td>2796.29</td></tr><tr><th>12</th><td>Colombia</td><td>Americas</td><td>2195039</td><td>4313.9</td></tr><tr><th>13</th><td>Argentina</td><td>Americas</td><td>2025798</td><td>4482.27</td></tr><tr><th>14</th><td>Mexico</td><td>Americas</td><td>1992794</td><td>1545.61</td></tr><tr><th>15</th><td>Poland</td><td>Europe</td><td>1596673</td><td>4218.8</td></tr><tr><th>16</th><td>Iran (Islamic Republic of)</td><td>Eastern Mediterranean</td><td>1526023</td><td>1816.85</td></tr><tr><th>17</th><td>South Africa</td><td>Africa</td><td>1492909</td><td>2517.18</td></tr><tr><th>18</th><td>Ukraine</td><td>Europe</td><td>1276618</td><td>2919.07</td></tr><tr><th>19</th><td>Peru</td><td>Americas</td><td>1235298</td><td>3746.52</td></tr><tr><th>20</th><td>Indonesia</td><td>South-East Asia</td><td>1223930</td><td>447.47</td></tr><tr><th>21</th><td>Czechia</td><td>Europe</td><td>1099654</td><td>10268.5</td></tr><tr><th>22</th><td>Netherlands</td><td>Europe</td><td>1032094</td><td>6023.35</td></tr><tr><th>23</th><td>Canada</td><td>Americas</td><td>825785</td><td>2187.96</td></tr><tr><th>24</th><td>Portugal</td><td>Europe</td><td>787059</td><td>7718.76</td></tr><tr><th>25</th><td>Chile</td><td>Americas</td><td>779541</td><td>4077.91</td></tr><tr><th>26</th><td>Romania</td><td>Europe</td><td>763294</td><td>3967.7</td></tr><tr><th>27</th><td>Belgium</td><td>Europe</td><td>739488</td><td>6380.6</td></tr><tr><th>28</th><td>Israel</td><td>Europe</td><td>725846</td><td>8385.92</td></tr><tr><th>29</th><td>Iraq</td><td>Eastern Mediterranean</td><td>646650</td><td>1607.68</td></tr><tr><th>30</th><td>Sweden</td><td>Europe</td><td>608411</td><td>6024.31</td></tr><tr><th>&vellip;</th><td>&vellip;</td><td>&vellip;</td><td>&vellip;</td><td>&vellip;</td></tr></tbody></table>"
      ],
      "text/latex": [
       "\\begin{tabular}{r|ccccc}\n",
       "\t& Name & WHO Region & Cases - cumulative total & Cases - cumulative total per 100000 population & \\\\\n",
       "\t\\hline\n",
       "\t& String & String? & Int64 & Float64? & \\\\\n",
       "\t\\hline\n",
       "\t1 & Global & \\emph{missing} & 108822960 & 1394.04 & $\\dots$ \\\\\n",
       "\t2 & United States of America & Americas & 27309503 & 8250.54 & $\\dots$ \\\\\n",
       "\t3 & India & South-East Asia & 10925710 & 791.72 & $\\dots$ \\\\\n",
       "\t4 & Brazil & Americas & 9834513 & 4626.71 & $\\dots$ \\\\\n",
       "\t5 & Russian Federation & Europe & 4099323 & 2809.02 & $\\dots$ \\\\\n",
       "\t6 & The United Kingdom & Europe & 4047847 & 5962.71 & $\\dots$ \\\\\n",
       "\t7 & France & Europe & 3410715 & 5225.27 & $\\dots$ \\\\\n",
       "\t8 & Spain & Europe & 3086286 & 6601.01 & $\\dots$ \\\\\n",
       "\t9 & Italy & Europe & 2729223 & 4513.96 & $\\dots$ \\\\\n",
       "\t10 & Turkey & Europe & 2594128 & 3075.83 & $\\dots$ \\\\\n",
       "\t11 & Germany & Europe & 2342843 & 2796.29 & $\\dots$ \\\\\n",
       "\t12 & Colombia & Americas & 2195039 & 4313.9 & $\\dots$ \\\\\n",
       "\t13 & Argentina & Americas & 2025798 & 4482.27 & $\\dots$ \\\\\n",
       "\t14 & Mexico & Americas & 1992794 & 1545.61 & $\\dots$ \\\\\n",
       "\t15 & Poland & Europe & 1596673 & 4218.8 & $\\dots$ \\\\\n",
       "\t16 & Iran (Islamic Republic of) & Eastern Mediterranean & 1526023 & 1816.85 & $\\dots$ \\\\\n",
       "\t17 & South Africa & Africa & 1492909 & 2517.18 & $\\dots$ \\\\\n",
       "\t18 & Ukraine & Europe & 1276618 & 2919.07 & $\\dots$ \\\\\n",
       "\t19 & Peru & Americas & 1235298 & 3746.52 & $\\dots$ \\\\\n",
       "\t20 & Indonesia & South-East Asia & 1223930 & 447.47 & $\\dots$ \\\\\n",
       "\t21 & Czechia & Europe & 1099654 & 10268.5 & $\\dots$ \\\\\n",
       "\t22 & Netherlands & Europe & 1032094 & 6023.35 & $\\dots$ \\\\\n",
       "\t23 & Canada & Americas & 825785 & 2187.96 & $\\dots$ \\\\\n",
       "\t24 & Portugal & Europe & 787059 & 7718.76 & $\\dots$ \\\\\n",
       "\t25 & Chile & Americas & 779541 & 4077.91 & $\\dots$ \\\\\n",
       "\t26 & Romania & Europe & 763294 & 3967.7 & $\\dots$ \\\\\n",
       "\t27 & Belgium & Europe & 739488 & 6380.6 & $\\dots$ \\\\\n",
       "\t28 & Israel & Europe & 725846 & 8385.92 & $\\dots$ \\\\\n",
       "\t29 & Iraq & Eastern Mediterranean & 646650 & 1607.68 & $\\dots$ \\\\\n",
       "\t30 & Sweden & Europe & 608411 & 6024.31 & $\\dots$ \\\\\n",
       "\t$\\dots$ & $\\dots$ & $\\dots$ & $\\dots$ & $\\dots$ &  \\\\\n",
       "\\end{tabular}\n"
      ],
      "text/plain": [
       "\u001b[1m238×13 DataFrame\u001b[0m\n",
       "\u001b[1m Row \u001b[0m│\u001b[1m Name                              \u001b[0m\u001b[1m WHO Region      \u001b[0m\u001b[1m Cases - cumulative \u001b[0m ⋯\n",
       "\u001b[1m     \u001b[0m│\u001b[90m String                            \u001b[0m\u001b[90m String?         \u001b[0m\u001b[90m Int64              \u001b[0m ⋯\n",
       "─────┼──────────────────────────────────────────────────────────────────────────\n",
       "   1 │ Global                            \u001b[90m missing         \u001b[0m                1088 ⋯\n",
       "   2 │ United States of America           Americas                         273\n",
       "   3 │ India                              South-East Asia                  109\n",
       "   4 │ Brazil                             Americas                          98\n",
       "   5 │ Russian Federation                 Europe                            40 ⋯\n",
       "   6 │ The United Kingdom                 Europe                            40\n",
       "   7 │ France                             Europe                            34\n",
       "   8 │ Spain                              Europe                            30\n",
       "   9 │ Italy                              Europe                            27 ⋯\n",
       "  10 │ Turkey                             Europe                            25\n",
       "  11 │ Germany                            Europe                            23\n",
       "  ⋮  │                 ⋮                         ⋮                    ⋮        ⋱\n",
       " 229 │ Micronesia (Federated States of)   Western Pacific\n",
       " 230 │ Nauru                              Western Pacific                      ⋯\n",
       " 231 │ Niue                               Western Pacific\n",
       " 232 │ Palau                              Western Pacific\n",
       " 233 │ Pitcairn Islands                   Western Pacific\n",
       " 234 │ Saint Helena                       Africa                               ⋯\n",
       " 235 │ Tokelau                            Western Pacific\n",
       " 236 │ Tonga                              Western Pacific\n",
       " 237 │ Turkmenistan                       Europe\n",
       " 238 │ Tuvalu                             Western Pacific                      ⋯\n",
       "\u001b[36m                                                 11 columns and 217 rows omitted\u001b[0m"
      ]
     },
     "execution_count": 2,
     "metadata": {},
     "output_type": "execute_result"
    }
   ],
   "source": [
    "using CSV\n",
    "using DataFrames\n",
    "df = DataFrame(CSV.File(\"WHO-COVID-19-global-table-data.csv\"))"
   ]
  },
  {
   "cell_type": "code",
   "execution_count": 3,
   "metadata": {},
   "outputs": [
    {
     "name": "stdout",
     "output_type": "stream",
     "text": [
      "\u001b[1m238×13 DataFrame\u001b[0m\n",
      "\u001b[1m Row \u001b[0m│\u001b[1m Name                              \u001b[0m\u001b[1m WHO Region      \u001b[0m\u001b[1m Cases - cumulative total \u001b[0m\u001b[1m Cases - cumulative total per 100000 population \u001b[0m\u001b[1m Cases - newly reported in last 7 days \u001b[0m\u001b[1m Cases - newly reported in last 7 days per 100000 population \u001b[0m\u001b[1m Cases - newly reported in last 24 hours \u001b[0m\u001b[1m Deaths - cumulative total \u001b[0m\u001b[1m Deaths - cumulative total per 100000 population \u001b[0m\u001b[1m Deaths - newly reported in last 7 days \u001b[0m\u001b[1m Deaths - newly reported in last 7 days per 100000 population \u001b[0m\u001b[1m Deaths - newly reported in last 24 hours \u001b[0m\u001b[1m Transmission Classification \u001b[0m\n",
      "\u001b[1m     \u001b[0m│\u001b[90m String                            \u001b[0m\u001b[90m String?         \u001b[0m\u001b[90m Int64                    \u001b[0m\u001b[90m Union{Missing, Float64}                        \u001b[0m\u001b[90m Int64                                 \u001b[0m\u001b[90m Union{Missing, Float64}                                     \u001b[0m\u001b[90m Int64                                   \u001b[0m\u001b[90m Int64                     \u001b[0m\u001b[90m Union{Missing, Float64}                         \u001b[0m\u001b[90m Int64                                  \u001b[0m\u001b[90m Union{Missing, Float64}                                      \u001b[0m\u001b[90m Int64                                    \u001b[0m\u001b[90m Union{Missing, String}      \u001b[0m\n",
      "─────┼────────────────────────────────────────────────────────────────────────────────────────────────────────────────────────────────────────────────────────────────────────────────────────────────────────────────────────────────────────────────────────────────────────────────────────────────────────────────────────────────────────────────────────────────────────────────────────────────────────────────────────────────────────────────────────────────────────────────────────────────────────────────────────────────────\n",
      "   1 │ Global                            \u001b[90m missing         \u001b[0m                108822960                                         1394.04                                2580130                                                      33.0518                                   192266                    2403641                                           30.791                                   79327                                                       1.01619                                      5892 \u001b[90m missing                     \u001b[0m\n",
      "   2 │ United States of America           Americas                         27309503                                         8250.54                                 563126                                                     170.13                                          0                     480464                                          145.15                                    20471                                                       6.18                                            0  Community transmission\n",
      "   3 │ India                              South-East Asia                  10925710                                          791.72                                  78406                                                       5.68                                       9121                     155813                                           11.29                                      655                                                       0.05                                           81  Clusters of cases\n",
      "   4 │ Brazil                             Americas                          9834513                                         4626.71                                 309873                                                     145.78                                      24759                     239245                                          112.55                                     7711                                                       3.63                                          713  Community transmission\n",
      "   5 │ Russian Federation                 Europe                            4099323                                         2809.02                                 101107                                                      69.28                                      13233                      80979                                           55.49                                     3381                                                       2.32                                          459  Clusters of cases\n",
      "   6 │ The United Kingdom                 Europe                            4047847                                         5962.71                                  88059                                                     129.72                                       9765                     117396                                          172.93                                     4598                                                       6.77                                          230  Community transmission\n",
      "   7 │ France                             Europe                            3410715                                         5225.27                                 124929                                                     191.39                                       4099                      81801                                          125.32                                     2785                                                       4.27                                          408  Community transmission\n",
      "   8 │ Spain                              Europe                            3086286                                         6601.01                                  68616                                                     146.76                                       1876                      65449                                          139.98                                     1230                                                       2.63                                           40  Community transmission\n",
      "   9 │ Italy                              Europe                            2729223                                         4513.96                                  84516                                                     139.78                                       7344                      93835                                          155.2                                      2255                                                       3.73                                          258  Clusters of cases\n",
      "  10 │ Turkey                             Europe                            2594128                                         3075.83                                  54569                                                      64.7                                        7945                      27562                                           32.68                                      662                                                       0.78                                           91  Community transmission\n",
      "  11 │ Germany                            Europe                            2342843                                         2796.29                                  50919                                                      60.77                                       3856                      65604                                           78.3                                      3448                                                       4.12                                          528  Community transmission\n",
      "  ⋮  │                 ⋮                         ⋮                    ⋮                                    ⋮                                           ⋮                                                 ⋮                                                  ⋮                                 ⋮                                     ⋮                                           ⋮                                                  ⋮                                                   ⋮                                   ⋮\n",
      " 228 │ Kiribati                           Western Pacific                         0                                            0.0                                       0                                                       0.0                                           0                          0                                            0.0                                         0                                                       0.0                                             0  No cases\n",
      " 229 │ Micronesia (Federated States of)   Western Pacific                         0                                            0.0                                       0                                                       0.0                                           0                          0                                            0.0                                         0                                                       0.0                                             0  No cases\n",
      " 230 │ Nauru                              Western Pacific                         0                                            0.0                                       0                                                       0.0                                           0                          0                                            0.0                                         0                                                       0.0                                             0  No cases\n",
      " 231 │ Niue                               Western Pacific                         0                                            0.0                                       0                                                       0.0                                           0                          0                                            0.0                                         0                                                       0.0                                             0  No cases\n",
      " 232 │ Palau                              Western Pacific                         0                                            0.0                                       0                                                       0.0                                           0                          0                                            0.0                                         0                                                       0.0                                             0  No cases\n",
      " 233 │ Pitcairn Islands                   Western Pacific                         0                                            0.0                                       0                                                       0.0                                           0                          0                                            0.0                                         0                                                       0.0                                             0  No cases\n",
      " 234 │ Saint Helena                       Africa                                  0                                            0.0                                       0                                                       0.0                                           0                          0                                            0.0                                         0                                                       0.0                                             0  No cases\n",
      " 235 │ Tokelau                            Western Pacific                         0                                            0.0                                       0                                                       0.0                                           0                          0                                            0.0                                         0                                                       0.0                                             0  No cases\n",
      " 236 │ Tonga                              Western Pacific                         0                                            0.0                                       0                                                       0.0                                           0                          0                                            0.0                                         0                                                       0.0                                             0  No cases\n",
      " 237 │ Turkmenistan                       Europe                                  0                                            0.0                                       0                                                       0.0                                           0                          0                                            0.0                                         0                                                       0.0                                             0  No cases\n",
      " 238 │ Tuvalu                             Western Pacific                         0                                            0.0                                       0                                                       0.0                                           0                          0                                            0.0                                         0                                                       0.0                                             0  No cases\n",
      "\u001b[36m                                                                                                                                                                                                                                                                                                                                                                                                                                                                                                                          216 rows omitted\u001b[0m"
     ]
    }
   ],
   "source": [
    "show(df, allcols = true)"
   ]
  },
  {
   "cell_type": "code",
   "execution_count": 4,
   "metadata": {},
   "outputs": [
    {
     "data": {
      "text/plain": [
       "(238, 13)"
      ]
     },
     "execution_count": 4,
     "metadata": {},
     "output_type": "execute_result"
    }
   ],
   "source": [
    "size(df)"
   ]
  },
  {
   "cell_type": "code",
   "execution_count": 5,
   "metadata": {},
   "outputs": [
    {
     "data": {
      "text/plain": [
       "(236, 13)"
      ]
     },
     "execution_count": 5,
     "metadata": {},
     "output_type": "execute_result"
    }
   ],
   "source": [
    "size(dropmissing(copy(df)))"
   ]
  },
  {
   "cell_type": "code",
   "execution_count": 6,
   "metadata": {},
   "outputs": [
    {
     "data": {
      "text/html": [
       "<table class=\"data-frame\"><thead><tr><th></th><th>Name</th><th>WHO Region</th><th>Cases - cumulative total</th><th>Cases - cumulative total per 100000 population</th></tr><tr><th></th><th>String</th><th>String</th><th>Int64</th><th>Float64</th></tr></thead><tbody><p>236 rows × 13 columns (omitted printing of 9 columns)</p><tr><th>1</th><td>United States of America</td><td>Americas</td><td>27309503</td><td>8250.54</td></tr><tr><th>2</th><td>India</td><td>South-East Asia</td><td>10925710</td><td>791.72</td></tr><tr><th>3</th><td>Brazil</td><td>Americas</td><td>9834513</td><td>4626.71</td></tr><tr><th>4</th><td>Russian Federation</td><td>Europe</td><td>4099323</td><td>2809.02</td></tr><tr><th>5</th><td>The United Kingdom</td><td>Europe</td><td>4047847</td><td>5962.71</td></tr><tr><th>6</th><td>France</td><td>Europe</td><td>3410715</td><td>5225.27</td></tr><tr><th>7</th><td>Spain</td><td>Europe</td><td>3086286</td><td>6601.01</td></tr><tr><th>8</th><td>Italy</td><td>Europe</td><td>2729223</td><td>4513.96</td></tr><tr><th>9</th><td>Turkey</td><td>Europe</td><td>2594128</td><td>3075.83</td></tr><tr><th>10</th><td>Germany</td><td>Europe</td><td>2342843</td><td>2796.29</td></tr><tr><th>11</th><td>Colombia</td><td>Americas</td><td>2195039</td><td>4313.9</td></tr><tr><th>12</th><td>Argentina</td><td>Americas</td><td>2025798</td><td>4482.27</td></tr><tr><th>13</th><td>Mexico</td><td>Americas</td><td>1992794</td><td>1545.61</td></tr><tr><th>14</th><td>Poland</td><td>Europe</td><td>1596673</td><td>4218.8</td></tr><tr><th>15</th><td>Iran (Islamic Republic of)</td><td>Eastern Mediterranean</td><td>1526023</td><td>1816.85</td></tr><tr><th>16</th><td>South Africa</td><td>Africa</td><td>1492909</td><td>2517.18</td></tr><tr><th>17</th><td>Ukraine</td><td>Europe</td><td>1276618</td><td>2919.07</td></tr><tr><th>18</th><td>Peru</td><td>Americas</td><td>1235298</td><td>3746.52</td></tr><tr><th>19</th><td>Indonesia</td><td>South-East Asia</td><td>1223930</td><td>447.47</td></tr><tr><th>20</th><td>Czechia</td><td>Europe</td><td>1099654</td><td>10268.5</td></tr><tr><th>21</th><td>Netherlands</td><td>Europe</td><td>1032094</td><td>6023.35</td></tr><tr><th>22</th><td>Canada</td><td>Americas</td><td>825785</td><td>2187.96</td></tr><tr><th>23</th><td>Portugal</td><td>Europe</td><td>787059</td><td>7718.76</td></tr><tr><th>24</th><td>Chile</td><td>Americas</td><td>779541</td><td>4077.91</td></tr><tr><th>25</th><td>Romania</td><td>Europe</td><td>763294</td><td>3967.7</td></tr><tr><th>26</th><td>Belgium</td><td>Europe</td><td>739488</td><td>6380.6</td></tr><tr><th>27</th><td>Israel</td><td>Europe</td><td>725846</td><td>8385.92</td></tr><tr><th>28</th><td>Iraq</td><td>Eastern Mediterranean</td><td>646650</td><td>1607.68</td></tr><tr><th>29</th><td>Sweden</td><td>Europe</td><td>608411</td><td>6024.31</td></tr><tr><th>30</th><td>Pakistan</td><td>Eastern Mediterranean</td><td>564077</td><td>255.36</td></tr><tr><th>&vellip;</th><td>&vellip;</td><td>&vellip;</td><td>&vellip;</td><td>&vellip;</td></tr></tbody></table>"
      ],
      "text/latex": [
       "\\begin{tabular}{r|ccccc}\n",
       "\t& Name & WHO Region & Cases - cumulative total & Cases - cumulative total per 100000 population & \\\\\n",
       "\t\\hline\n",
       "\t& String & String & Int64 & Float64 & \\\\\n",
       "\t\\hline\n",
       "\t1 & United States of America & Americas & 27309503 & 8250.54 & $\\dots$ \\\\\n",
       "\t2 & India & South-East Asia & 10925710 & 791.72 & $\\dots$ \\\\\n",
       "\t3 & Brazil & Americas & 9834513 & 4626.71 & $\\dots$ \\\\\n",
       "\t4 & Russian Federation & Europe & 4099323 & 2809.02 & $\\dots$ \\\\\n",
       "\t5 & The United Kingdom & Europe & 4047847 & 5962.71 & $\\dots$ \\\\\n",
       "\t6 & France & Europe & 3410715 & 5225.27 & $\\dots$ \\\\\n",
       "\t7 & Spain & Europe & 3086286 & 6601.01 & $\\dots$ \\\\\n",
       "\t8 & Italy & Europe & 2729223 & 4513.96 & $\\dots$ \\\\\n",
       "\t9 & Turkey & Europe & 2594128 & 3075.83 & $\\dots$ \\\\\n",
       "\t10 & Germany & Europe & 2342843 & 2796.29 & $\\dots$ \\\\\n",
       "\t11 & Colombia & Americas & 2195039 & 4313.9 & $\\dots$ \\\\\n",
       "\t12 & Argentina & Americas & 2025798 & 4482.27 & $\\dots$ \\\\\n",
       "\t13 & Mexico & Americas & 1992794 & 1545.61 & $\\dots$ \\\\\n",
       "\t14 & Poland & Europe & 1596673 & 4218.8 & $\\dots$ \\\\\n",
       "\t15 & Iran (Islamic Republic of) & Eastern Mediterranean & 1526023 & 1816.85 & $\\dots$ \\\\\n",
       "\t16 & South Africa & Africa & 1492909 & 2517.18 & $\\dots$ \\\\\n",
       "\t17 & Ukraine & Europe & 1276618 & 2919.07 & $\\dots$ \\\\\n",
       "\t18 & Peru & Americas & 1235298 & 3746.52 & $\\dots$ \\\\\n",
       "\t19 & Indonesia & South-East Asia & 1223930 & 447.47 & $\\dots$ \\\\\n",
       "\t20 & Czechia & Europe & 1099654 & 10268.5 & $\\dots$ \\\\\n",
       "\t21 & Netherlands & Europe & 1032094 & 6023.35 & $\\dots$ \\\\\n",
       "\t22 & Canada & Americas & 825785 & 2187.96 & $\\dots$ \\\\\n",
       "\t23 & Portugal & Europe & 787059 & 7718.76 & $\\dots$ \\\\\n",
       "\t24 & Chile & Americas & 779541 & 4077.91 & $\\dots$ \\\\\n",
       "\t25 & Romania & Europe & 763294 & 3967.7 & $\\dots$ \\\\\n",
       "\t26 & Belgium & Europe & 739488 & 6380.6 & $\\dots$ \\\\\n",
       "\t27 & Israel & Europe & 725846 & 8385.92 & $\\dots$ \\\\\n",
       "\t28 & Iraq & Eastern Mediterranean & 646650 & 1607.68 & $\\dots$ \\\\\n",
       "\t29 & Sweden & Europe & 608411 & 6024.31 & $\\dots$ \\\\\n",
       "\t30 & Pakistan & Eastern Mediterranean & 564077 & 255.36 & $\\dots$ \\\\\n",
       "\t$\\dots$ & $\\dots$ & $\\dots$ & $\\dots$ & $\\dots$ &  \\\\\n",
       "\\end{tabular}\n"
      ],
      "text/plain": [
       "\u001b[1m236×13 DataFrame\u001b[0m\n",
       "\u001b[1m Row \u001b[0m│\u001b[1m Name                              \u001b[0m\u001b[1m WHO Region      \u001b[0m\u001b[1m Cases - cumulative \u001b[0m ⋯\n",
       "\u001b[1m     \u001b[0m│\u001b[90m String                            \u001b[0m\u001b[90m String          \u001b[0m\u001b[90m Int64              \u001b[0m ⋯\n",
       "─────┼──────────────────────────────────────────────────────────────────────────\n",
       "   1 │ United States of America           Americas                         273 ⋯\n",
       "   2 │ India                              South-East Asia                  109\n",
       "   3 │ Brazil                             Americas                          98\n",
       "   4 │ Russian Federation                 Europe                            40\n",
       "   5 │ The United Kingdom                 Europe                            40 ⋯\n",
       "   6 │ France                             Europe                            34\n",
       "   7 │ Spain                              Europe                            30\n",
       "   8 │ Italy                              Europe                            27\n",
       "   9 │ Turkey                             Europe                            25 ⋯\n",
       "  10 │ Germany                            Europe                            23\n",
       "  11 │ Colombia                           Americas                          21\n",
       "  ⋮  │                 ⋮                         ⋮                    ⋮        ⋱\n",
       " 227 │ Micronesia (Federated States of)   Western Pacific\n",
       " 228 │ Nauru                              Western Pacific                      ⋯\n",
       " 229 │ Niue                               Western Pacific\n",
       " 230 │ Palau                              Western Pacific\n",
       " 231 │ Pitcairn Islands                   Western Pacific\n",
       " 232 │ Saint Helena                       Africa                               ⋯\n",
       " 233 │ Tokelau                            Western Pacific\n",
       " 234 │ Tonga                              Western Pacific\n",
       " 235 │ Turkmenistan                       Europe\n",
       " 236 │ Tuvalu                             Western Pacific                      ⋯\n",
       "\u001b[36m                                                 11 columns and 215 rows omitted\u001b[0m"
      ]
     },
     "execution_count": 6,
     "metadata": {},
     "output_type": "execute_result"
    }
   ],
   "source": [
    "df = dropmissing(df)"
   ]
  },
  {
   "cell_type": "code",
   "execution_count": 7,
   "metadata": {},
   "outputs": [
    {
     "data": {
      "text/plain": [
       "droprow! (generic function with 1 method)"
      ]
     },
     "execution_count": 7,
     "metadata": {},
     "output_type": "execute_result"
    }
   ],
   "source": [
    "droprow!(df::DataFrame,x::Int) =  df[[1:size(df,1)][1:size(df,1).!=x],:]"
   ]
  },
  {
   "cell_type": "code",
   "execution_count": 8,
   "metadata": {},
   "outputs": [
    {
     "data": {
      "text/html": [
       "<table class=\"data-frame\"><thead><tr><th></th><th>Name</th><th>WHO Region</th><th>Cases - cumulative total</th><th>Cases - cumulative total per 100000 population</th></tr><tr><th></th><th>String</th><th>String</th><th>Int64</th><th>Float64</th></tr></thead><tbody><p>235 rows × 13 columns (omitted printing of 9 columns)</p><tr><th>1</th><td>India</td><td>South-East Asia</td><td>10925710</td><td>791.72</td></tr><tr><th>2</th><td>Brazil</td><td>Americas</td><td>9834513</td><td>4626.71</td></tr><tr><th>3</th><td>Russian Federation</td><td>Europe</td><td>4099323</td><td>2809.02</td></tr><tr><th>4</th><td>The United Kingdom</td><td>Europe</td><td>4047847</td><td>5962.71</td></tr><tr><th>5</th><td>France</td><td>Europe</td><td>3410715</td><td>5225.27</td></tr><tr><th>6</th><td>Spain</td><td>Europe</td><td>3086286</td><td>6601.01</td></tr><tr><th>7</th><td>Italy</td><td>Europe</td><td>2729223</td><td>4513.96</td></tr><tr><th>8</th><td>Turkey</td><td>Europe</td><td>2594128</td><td>3075.83</td></tr><tr><th>9</th><td>Germany</td><td>Europe</td><td>2342843</td><td>2796.29</td></tr><tr><th>10</th><td>Colombia</td><td>Americas</td><td>2195039</td><td>4313.9</td></tr><tr><th>11</th><td>Argentina</td><td>Americas</td><td>2025798</td><td>4482.27</td></tr><tr><th>12</th><td>Mexico</td><td>Americas</td><td>1992794</td><td>1545.61</td></tr><tr><th>13</th><td>Poland</td><td>Europe</td><td>1596673</td><td>4218.8</td></tr><tr><th>14</th><td>Iran (Islamic Republic of)</td><td>Eastern Mediterranean</td><td>1526023</td><td>1816.85</td></tr><tr><th>15</th><td>South Africa</td><td>Africa</td><td>1492909</td><td>2517.18</td></tr><tr><th>16</th><td>Ukraine</td><td>Europe</td><td>1276618</td><td>2919.07</td></tr><tr><th>17</th><td>Peru</td><td>Americas</td><td>1235298</td><td>3746.52</td></tr><tr><th>18</th><td>Indonesia</td><td>South-East Asia</td><td>1223930</td><td>447.47</td></tr><tr><th>19</th><td>Czechia</td><td>Europe</td><td>1099654</td><td>10268.5</td></tr><tr><th>20</th><td>Netherlands</td><td>Europe</td><td>1032094</td><td>6023.35</td></tr><tr><th>21</th><td>Canada</td><td>Americas</td><td>825785</td><td>2187.96</td></tr><tr><th>22</th><td>Portugal</td><td>Europe</td><td>787059</td><td>7718.76</td></tr><tr><th>23</th><td>Chile</td><td>Americas</td><td>779541</td><td>4077.91</td></tr><tr><th>24</th><td>Romania</td><td>Europe</td><td>763294</td><td>3967.7</td></tr><tr><th>25</th><td>Belgium</td><td>Europe</td><td>739488</td><td>6380.6</td></tr><tr><th>26</th><td>Israel</td><td>Europe</td><td>725846</td><td>8385.92</td></tr><tr><th>27</th><td>Iraq</td><td>Eastern Mediterranean</td><td>646650</td><td>1607.68</td></tr><tr><th>28</th><td>Sweden</td><td>Europe</td><td>608411</td><td>6024.31</td></tr><tr><th>29</th><td>Pakistan</td><td>Eastern Mediterranean</td><td>564077</td><td>255.36</td></tr><tr><th>30</th><td>Philippines</td><td>Western Pacific</td><td>550860</td><td>502.7</td></tr><tr><th>&vellip;</th><td>&vellip;</td><td>&vellip;</td><td>&vellip;</td><td>&vellip;</td></tr></tbody></table>"
      ],
      "text/latex": [
       "\\begin{tabular}{r|ccccc}\n",
       "\t& Name & WHO Region & Cases - cumulative total & Cases - cumulative total per 100000 population & \\\\\n",
       "\t\\hline\n",
       "\t& String & String & Int64 & Float64 & \\\\\n",
       "\t\\hline\n",
       "\t1 & India & South-East Asia & 10925710 & 791.72 & $\\dots$ \\\\\n",
       "\t2 & Brazil & Americas & 9834513 & 4626.71 & $\\dots$ \\\\\n",
       "\t3 & Russian Federation & Europe & 4099323 & 2809.02 & $\\dots$ \\\\\n",
       "\t4 & The United Kingdom & Europe & 4047847 & 5962.71 & $\\dots$ \\\\\n",
       "\t5 & France & Europe & 3410715 & 5225.27 & $\\dots$ \\\\\n",
       "\t6 & Spain & Europe & 3086286 & 6601.01 & $\\dots$ \\\\\n",
       "\t7 & Italy & Europe & 2729223 & 4513.96 & $\\dots$ \\\\\n",
       "\t8 & Turkey & Europe & 2594128 & 3075.83 & $\\dots$ \\\\\n",
       "\t9 & Germany & Europe & 2342843 & 2796.29 & $\\dots$ \\\\\n",
       "\t10 & Colombia & Americas & 2195039 & 4313.9 & $\\dots$ \\\\\n",
       "\t11 & Argentina & Americas & 2025798 & 4482.27 & $\\dots$ \\\\\n",
       "\t12 & Mexico & Americas & 1992794 & 1545.61 & $\\dots$ \\\\\n",
       "\t13 & Poland & Europe & 1596673 & 4218.8 & $\\dots$ \\\\\n",
       "\t14 & Iran (Islamic Republic of) & Eastern Mediterranean & 1526023 & 1816.85 & $\\dots$ \\\\\n",
       "\t15 & South Africa & Africa & 1492909 & 2517.18 & $\\dots$ \\\\\n",
       "\t16 & Ukraine & Europe & 1276618 & 2919.07 & $\\dots$ \\\\\n",
       "\t17 & Peru & Americas & 1235298 & 3746.52 & $\\dots$ \\\\\n",
       "\t18 & Indonesia & South-East Asia & 1223930 & 447.47 & $\\dots$ \\\\\n",
       "\t19 & Czechia & Europe & 1099654 & 10268.5 & $\\dots$ \\\\\n",
       "\t20 & Netherlands & Europe & 1032094 & 6023.35 & $\\dots$ \\\\\n",
       "\t21 & Canada & Americas & 825785 & 2187.96 & $\\dots$ \\\\\n",
       "\t22 & Portugal & Europe & 787059 & 7718.76 & $\\dots$ \\\\\n",
       "\t23 & Chile & Americas & 779541 & 4077.91 & $\\dots$ \\\\\n",
       "\t24 & Romania & Europe & 763294 & 3967.7 & $\\dots$ \\\\\n",
       "\t25 & Belgium & Europe & 739488 & 6380.6 & $\\dots$ \\\\\n",
       "\t26 & Israel & Europe & 725846 & 8385.92 & $\\dots$ \\\\\n",
       "\t27 & Iraq & Eastern Mediterranean & 646650 & 1607.68 & $\\dots$ \\\\\n",
       "\t28 & Sweden & Europe & 608411 & 6024.31 & $\\dots$ \\\\\n",
       "\t29 & Pakistan & Eastern Mediterranean & 564077 & 255.36 & $\\dots$ \\\\\n",
       "\t30 & Philippines & Western Pacific & 550860 & 502.7 & $\\dots$ \\\\\n",
       "\t$\\dots$ & $\\dots$ & $\\dots$ & $\\dots$ & $\\dots$ &  \\\\\n",
       "\\end{tabular}\n"
      ],
      "text/plain": [
       "\u001b[1m235×13 DataFrame\u001b[0m\n",
       "\u001b[1m Row \u001b[0m│\u001b[1m Name                              \u001b[0m\u001b[1m WHO Region            \u001b[0m\u001b[1m Cases - cumul\u001b[0m ⋯\n",
       "\u001b[1m     \u001b[0m│\u001b[90m String                            \u001b[0m\u001b[90m String                \u001b[0m\u001b[90m Int64        \u001b[0m ⋯\n",
       "─────┼──────────────────────────────────────────────────────────────────────────\n",
       "   1 │ India                              South-East Asia                      ⋯\n",
       "   2 │ Brazil                             Americas\n",
       "   3 │ Russian Federation                 Europe\n",
       "   4 │ The United Kingdom                 Europe\n",
       "   5 │ France                             Europe                               ⋯\n",
       "   6 │ Spain                              Europe\n",
       "   7 │ Italy                              Europe\n",
       "   8 │ Turkey                             Europe\n",
       "   9 │ Germany                            Europe                               ⋯\n",
       "  10 │ Colombia                           Americas\n",
       "  11 │ Argentina                          Americas\n",
       "  ⋮  │                 ⋮                            ⋮                       ⋮  ⋱\n",
       " 226 │ Micronesia (Federated States of)   Western Pacific\n",
       " 227 │ Nauru                              Western Pacific                      ⋯\n",
       " 228 │ Niue                               Western Pacific\n",
       " 229 │ Palau                              Western Pacific\n",
       " 230 │ Pitcairn Islands                   Western Pacific\n",
       " 231 │ Saint Helena                       Africa                               ⋯\n",
       " 232 │ Tokelau                            Western Pacific\n",
       " 233 │ Tonga                              Western Pacific\n",
       " 234 │ Turkmenistan                       Europe\n",
       " 235 │ Tuvalu                             Western Pacific                      ⋯\n",
       "\u001b[36m                                                 11 columns and 214 rows omitted\u001b[0m"
      ]
     },
     "execution_count": 8,
     "metadata": {},
     "output_type": "execute_result"
    }
   ],
   "source": [
    "delete!(df, 1)"
   ]
  },
  {
   "cell_type": "code",
   "execution_count": 9,
   "metadata": {},
   "outputs": [
    {
     "name": "stdout",
     "output_type": "stream",
     "text": [
      "Name\n",
      "WHO Region\n",
      "Cases - cumulative total\n",
      "Cases - cumulative total per 100000 population\n",
      "Cases - newly reported in last 7 days\n",
      "Cases - newly reported in last 7 days per 100000 population\n",
      "Cases - newly reported in last 24 hours\n",
      "Deaths - cumulative total\n",
      "Deaths - cumulative total per 100000 population\n",
      "Deaths - newly reported in last 7 days\n",
      "Deaths - newly reported in last 7 days per 100000 population\n",
      "Deaths - newly reported in last 24 hours\n",
      "Transmission Classification\n"
     ]
    },
    {
     "data": {
      "text/plain": [
       "13-element Array{Nothing,1}:\n",
       " nothing\n",
       " nothing\n",
       " nothing\n",
       " nothing\n",
       " nothing\n",
       " nothing\n",
       " nothing\n",
       " nothing\n",
       " nothing\n",
       " nothing\n",
       " nothing\n",
       " nothing\n",
       " nothing"
      ]
     },
     "execution_count": 9,
     "metadata": {},
     "output_type": "execute_result"
    }
   ],
   "source": [
    "[println(name) for name in names(df)]"
   ]
  },
  {
   "cell_type": "code",
   "execution_count": 10,
   "metadata": {},
   "outputs": [
    {
     "data": {
      "text/plain": [
       "Set{String} with 5 elements:\n",
       "  \"Sporadic cases\"\n",
       "  \"Community transmission\"\n",
       "  \"No cases\"\n",
       "  \"Pending\"\n",
       "  \"Clusters of cases\""
      ]
     },
     "execution_count": 10,
     "metadata": {},
     "output_type": "execute_result"
    }
   ],
   "source": [
    "Set(df[!, Symbol(\"Transmission Classification\")])"
   ]
  },
  {
   "cell_type": "code",
   "execution_count": 11,
   "metadata": {},
   "outputs": [
    {
     "data": {
      "text/html": [
       "<table class=\"data-frame\"><thead><tr><th></th><th>Name</th><th>WHO Region</th><th>Cases - cumulative total</th><th>Cases - cumulative total per 100000 population</th></tr><tr><th></th><th>String</th><th>String</th><th>Int64</th><th>Float64</th></tr></thead><tbody><p>140 rows × 13 columns (omitted printing of 9 columns)</p><tr><th>1</th><td>Brazil</td><td>Americas</td><td>9834513</td><td>4626.71</td></tr><tr><th>2</th><td>The United Kingdom</td><td>Europe</td><td>4047847</td><td>5962.71</td></tr><tr><th>3</th><td>France</td><td>Europe</td><td>3410715</td><td>5225.27</td></tr><tr><th>4</th><td>Spain</td><td>Europe</td><td>3086286</td><td>6601.01</td></tr><tr><th>5</th><td>Turkey</td><td>Europe</td><td>2594128</td><td>3075.83</td></tr><tr><th>6</th><td>Germany</td><td>Europe</td><td>2342843</td><td>2796.29</td></tr><tr><th>7</th><td>Colombia</td><td>Americas</td><td>2195039</td><td>4313.9</td></tr><tr><th>8</th><td>Argentina</td><td>Americas</td><td>2025798</td><td>4482.27</td></tr><tr><th>9</th><td>Mexico</td><td>Americas</td><td>1992794</td><td>1545.61</td></tr><tr><th>10</th><td>Poland</td><td>Europe</td><td>1596673</td><td>4218.8</td></tr><tr><th>11</th><td>Iran (Islamic Republic of)</td><td>Eastern Mediterranean</td><td>1526023</td><td>1816.85</td></tr><tr><th>12</th><td>South Africa</td><td>Africa</td><td>1492909</td><td>2517.18</td></tr><tr><th>13</th><td>Ukraine</td><td>Europe</td><td>1276618</td><td>2919.07</td></tr><tr><th>14</th><td>Peru</td><td>Americas</td><td>1235298</td><td>3746.52</td></tr><tr><th>15</th><td>Indonesia</td><td>South-East Asia</td><td>1223930</td><td>447.47</td></tr><tr><th>16</th><td>Czechia</td><td>Europe</td><td>1099654</td><td>10268.5</td></tr><tr><th>17</th><td>Netherlands</td><td>Europe</td><td>1032094</td><td>6023.35</td></tr><tr><th>18</th><td>Canada</td><td>Americas</td><td>825785</td><td>2187.96</td></tr><tr><th>19</th><td>Chile</td><td>Americas</td><td>779541</td><td>4077.91</td></tr><tr><th>20</th><td>Romania</td><td>Europe</td><td>763294</td><td>3967.7</td></tr><tr><th>21</th><td>Belgium</td><td>Europe</td><td>739488</td><td>6380.6</td></tr><tr><th>22</th><td>Israel</td><td>Europe</td><td>725846</td><td>8385.92</td></tr><tr><th>23</th><td>Iraq</td><td>Eastern Mediterranean</td><td>646650</td><td>1607.68</td></tr><tr><th>24</th><td>Sweden</td><td>Europe</td><td>608411</td><td>6024.31</td></tr><tr><th>25</th><td>Pakistan</td><td>Eastern Mediterranean</td><td>564077</td><td>255.36</td></tr><tr><th>26</th><td>Philippines</td><td>Western Pacific</td><td>550860</td><td>502.7</td></tr><tr><th>27</th><td>Bangladesh</td><td>South-East Asia</td><td>541038</td><td>328.52</td></tr><tr><th>28</th><td>Switzerland</td><td>Europe</td><td>540593</td><td>6246.29</td></tr><tr><th>29</th><td>Austria</td><td>Europe</td><td>431087</td><td>4786.45</td></tr><tr><th>30</th><td>Serbia</td><td>Europe</td><td>422210</td><td>6062.96</td></tr><tr><th>&vellip;</th><td>&vellip;</td><td>&vellip;</td><td>&vellip;</td><td>&vellip;</td></tr></tbody></table>"
      ],
      "text/latex": [
       "\\begin{tabular}{r|ccccc}\n",
       "\t& Name & WHO Region & Cases - cumulative total & Cases - cumulative total per 100000 population & \\\\\n",
       "\t\\hline\n",
       "\t& String & String & Int64 & Float64 & \\\\\n",
       "\t\\hline\n",
       "\t1 & Brazil & Americas & 9834513 & 4626.71 & $\\dots$ \\\\\n",
       "\t2 & The United Kingdom & Europe & 4047847 & 5962.71 & $\\dots$ \\\\\n",
       "\t3 & France & Europe & 3410715 & 5225.27 & $\\dots$ \\\\\n",
       "\t4 & Spain & Europe & 3086286 & 6601.01 & $\\dots$ \\\\\n",
       "\t5 & Turkey & Europe & 2594128 & 3075.83 & $\\dots$ \\\\\n",
       "\t6 & Germany & Europe & 2342843 & 2796.29 & $\\dots$ \\\\\n",
       "\t7 & Colombia & Americas & 2195039 & 4313.9 & $\\dots$ \\\\\n",
       "\t8 & Argentina & Americas & 2025798 & 4482.27 & $\\dots$ \\\\\n",
       "\t9 & Mexico & Americas & 1992794 & 1545.61 & $\\dots$ \\\\\n",
       "\t10 & Poland & Europe & 1596673 & 4218.8 & $\\dots$ \\\\\n",
       "\t11 & Iran (Islamic Republic of) & Eastern Mediterranean & 1526023 & 1816.85 & $\\dots$ \\\\\n",
       "\t12 & South Africa & Africa & 1492909 & 2517.18 & $\\dots$ \\\\\n",
       "\t13 & Ukraine & Europe & 1276618 & 2919.07 & $\\dots$ \\\\\n",
       "\t14 & Peru & Americas & 1235298 & 3746.52 & $\\dots$ \\\\\n",
       "\t15 & Indonesia & South-East Asia & 1223930 & 447.47 & $\\dots$ \\\\\n",
       "\t16 & Czechia & Europe & 1099654 & 10268.5 & $\\dots$ \\\\\n",
       "\t17 & Netherlands & Europe & 1032094 & 6023.35 & $\\dots$ \\\\\n",
       "\t18 & Canada & Americas & 825785 & 2187.96 & $\\dots$ \\\\\n",
       "\t19 & Chile & Americas & 779541 & 4077.91 & $\\dots$ \\\\\n",
       "\t20 & Romania & Europe & 763294 & 3967.7 & $\\dots$ \\\\\n",
       "\t21 & Belgium & Europe & 739488 & 6380.6 & $\\dots$ \\\\\n",
       "\t22 & Israel & Europe & 725846 & 8385.92 & $\\dots$ \\\\\n",
       "\t23 & Iraq & Eastern Mediterranean & 646650 & 1607.68 & $\\dots$ \\\\\n",
       "\t24 & Sweden & Europe & 608411 & 6024.31 & $\\dots$ \\\\\n",
       "\t25 & Pakistan & Eastern Mediterranean & 564077 & 255.36 & $\\dots$ \\\\\n",
       "\t26 & Philippines & Western Pacific & 550860 & 502.7 & $\\dots$ \\\\\n",
       "\t27 & Bangladesh & South-East Asia & 541038 & 328.52 & $\\dots$ \\\\\n",
       "\t28 & Switzerland & Europe & 540593 & 6246.29 & $\\dots$ \\\\\n",
       "\t29 & Austria & Europe & 431087 & 4786.45 & $\\dots$ \\\\\n",
       "\t30 & Serbia & Europe & 422210 & 6062.96 & $\\dots$ \\\\\n",
       "\t$\\dots$ & $\\dots$ & $\\dots$ & $\\dots$ & $\\dots$ &  \\\\\n",
       "\\end{tabular}\n"
      ],
      "text/plain": [
       "\u001b[1m140×13 DataFrame\u001b[0m\n",
       "\u001b[1m Row \u001b[0m│\u001b[1m Name                             \u001b[0m\u001b[1m WHO Region            \u001b[0m\u001b[1m Cases - cumula\u001b[0m ⋯\n",
       "\u001b[1m     \u001b[0m│\u001b[90m String                           \u001b[0m\u001b[90m String                \u001b[0m\u001b[90m Int64         \u001b[0m ⋯\n",
       "─────┼──────────────────────────────────────────────────────────────────────────\n",
       "   1 │ Brazil                            Americas                              ⋯\n",
       "   2 │ The United Kingdom                Europe\n",
       "   3 │ France                            Europe\n",
       "   4 │ Spain                             Europe\n",
       "   5 │ Turkey                            Europe                                ⋯\n",
       "   6 │ Germany                           Europe\n",
       "   7 │ Colombia                          Americas\n",
       "   8 │ Argentina                         Americas\n",
       "   9 │ Mexico                            Americas                              ⋯\n",
       "  10 │ Poland                            Europe\n",
       "  11 │ Iran (Islamic Republic of)        Eastern Mediterranean\n",
       "  ⋮  │                ⋮                            ⋮                       ⋮   ⋱\n",
       " 131 │ Sint Maarten                      Americas\n",
       " 132 │ Seychelles                        Africa                                ⋯\n",
       " 133 │ Liberia                           Africa\n",
       " 134 │ Burundi                           Africa\n",
       " 135 │ Sao Tome and Principe             Africa\n",
       " 136 │ Saint Vincent and the Grenadines  Americas                              ⋯\n",
       " 137 │ Saint Martin                      Americas\n",
       " 138 │ Papua New Guinea                  Western Pacific\n",
       " 139 │ Guernsey                          Europe\n",
       " 140 │ Bonaire                           Americas                              ⋯\n",
       "\u001b[36m                                                 11 columns and 119 rows omitted\u001b[0m"
      ]
     },
     "execution_count": 11,
     "metadata": {},
     "output_type": "execute_result"
    }
   ],
   "source": [
    "community_trans = df[findall(in([\"Community transmission\"]), df[!, Symbol(\"Transmission Classification\")]), :]"
   ]
  },
  {
   "cell_type": "code",
   "execution_count": 12,
   "metadata": {},
   "outputs": [
    {
     "name": "stderr",
     "output_type": "stream",
     "text": [
      "┌ Info: Precompiling Lathe [38d8eb38-e7b1-11e9-0012-376b6c802672]\n",
      "└ @ Base loading.jl:1278\n",
      "WARNING: Method definition PowerLog(Float64, Float64) in module models at /home/emmett/.julia/packages/Lathe/4dS4P/src/models/toolbox.jl:14 overwritten at /home/emmett/.julia/packages/Lathe/4dS4P/src/models/toolbox.jl:14.\n",
      "  ** incremental compilation may be fatally broken for this module **\n",
      "\n",
      "WARNING: Method definition PowerLog##kw(Any, typeof(Lathe.models.PowerLog), Float64, Float64) in module models at /home/emmett/.julia/packages/Lathe/4dS4P/src/models/toolbox.jl:14 overwritten at /home/emmett/.julia/packages/Lathe/4dS4P/src/models/toolbox.jl:14.\n",
      "  ** incremental compilation may be fatally broken for this module **\n",
      "\n",
      "┌ Warning: Replacing docs for `Lathe.models.PowerLog :: Tuple{Float64,Float64}` in module `Lathe.models`\n",
      "└ @ Base.Docs docs/Docs.jl:227\n",
      "WARNING: Method definition MeanBaseline(Any) in module models at /home/emmett/.julia/packages/Lathe/4dS4P/src/models/toolbox.jl:55 overwritten at /home/emmett/.julia/packages/Lathe/4dS4P/src/models/toolbox.jl:55.\n",
      "  ** incremental compilation may be fatally broken for this module **\n",
      "\n",
      "┌ Warning: Replacing docs for `Lathe.models.MeanBaseline :: Tuple{Any}` in module `Lathe.models`\n",
      "└ @ Base.Docs docs/Docs.jl:227\n",
      "WARNING: Method definition ClassBaseline(Any) in module models at /home/emmett/.julia/packages/Lathe/4dS4P/src/models/toolbox.jl:78 overwritten at /home/emmett/.julia/packages/Lathe/4dS4P/src/models/toolbox.jl:78.\n",
      "  ** incremental compilation may be fatally broken for this module **\n",
      "\n",
      "┌ Warning: Replacing docs for `Lathe.models.ClassBaseline :: Tuple{Any}` in module `Lathe.models`\n",
      "└ @ Base.Docs docs/Docs.jl:227\n",
      "WARNING: Method definition Pipeline(Any) in module models at /home/emmett/.julia/packages/Lathe/4dS4P/src/models/toolbox.jl:101 overwritten at /home/emmett/.julia/packages/Lathe/4dS4P/src/models/toolbox.jl:101.\n",
      "  ** incremental compilation may be fatally broken for this module **\n",
      "\n",
      "┌ Warning: Replacing docs for `Lathe.models.Pipeline :: Tuple{Any}` in module `Lathe.models`\n",
      "└ @ Base.Docs docs/Docs.jl:227\n",
      "WARNING: Method definition _compare_predCat(Any, DataFrames.DataFrame) in module models at /home/emmett/.julia/packages/Lathe/4dS4P/src/models/toolbox.jl:106 overwritten at /home/emmett/.julia/packages/Lathe/4dS4P/src/models/toolbox.jl:106.\n",
      "  ** incremental compilation may be fatally broken for this module **\n",
      "\n",
      "WARNING: Method definition PowerLog(Float64, Float64) in module models at /home/emmett/.julia/packages/Lathe/4dS4P/src/models/toolbox.jl:14 overwritten at /home/emmett/.julia/packages/Lathe/4dS4P/src/models/toolbox.jl:14.\n",
      "  ** incremental compilation may be fatally broken for this module **\n",
      "\n",
      "WARNING: Method definition PowerLog##kw(Any, typeof(Lathe.models.PowerLog), Float64, Float64) in module models at /home/emmett/.julia/packages/Lathe/4dS4P/src/models/toolbox.jl:14 overwritten at /home/emmett/.julia/packages/Lathe/4dS4P/src/models/toolbox.jl:14.\n",
      "  ** incremental compilation may be fatally broken for this module **\n",
      "\n",
      "┌ Warning: Replacing docs for `Lathe.models.PowerLog :: Tuple{Float64,Float64}` in module `Lathe.models`\n",
      "└ @ Base.Docs docs/Docs.jl:227\n",
      "WARNING: Method definition MeanBaseline(Any) in module models at /home/emmett/.julia/packages/Lathe/4dS4P/src/models/toolbox.jl:55 overwritten at /home/emmett/.julia/packages/Lathe/4dS4P/src/models/toolbox.jl:55.\n",
      "  ** incremental compilation may be fatally broken for this module **\n",
      "\n",
      "┌ Warning: Replacing docs for `Lathe.models.MeanBaseline :: Tuple{Any}` in module `Lathe.models`\n",
      "└ @ Base.Docs docs/Docs.jl:227\n",
      "WARNING: Method definition ClassBaseline(Any) in module models at /home/emmett/.julia/packages/Lathe/4dS4P/src/models/toolbox.jl:78 overwritten at /home/emmett/.julia/packages/Lathe/4dS4P/src/models/toolbox.jl:78.\n",
      "  ** incremental compilation may be fatally broken for this module **\n",
      "\n",
      "┌ Warning: Replacing docs for `Lathe.models.ClassBaseline :: Tuple{Any}` in module `Lathe.models`\n",
      "└ @ Base.Docs docs/Docs.jl:227\n",
      "WARNING: Method definition Pipeline(Any) in module models at /home/emmett/.julia/packages/Lathe/4dS4P/src/models/toolbox.jl:101 overwritten at /home/emmett/.julia/packages/Lathe/4dS4P/src/models/toolbox.jl:101.\n",
      "  ** incremental compilation may be fatally broken for this module **\n",
      "\n",
      "┌ Warning: Replacing docs for `Lathe.models.Pipeline :: Tuple{Any}` in module `Lathe.models`\n",
      "└ @ Base.Docs docs/Docs.jl:227\n",
      "WARNING: Method definition _compare_predCat(Any, DataFrames.DataFrame) in module models at /home/emmett/.julia/packages/Lathe/4dS4P/src/models/toolbox.jl:106 overwritten at /home/emmett/.julia/packages/Lathe/4dS4P/src/models/toolbox.jl:106.\n",
      "  ** incremental compilation may be fatally broken for this module **\n",
      "\n"
     ]
    }
   ],
   "source": [
    "using Lathe.stats: T_Dist, TwoTailed"
   ]
  },
  {
   "cell_type": "code",
   "execution_count": 13,
   "metadata": {},
   "outputs": [
    {
     "data": {
      "text/plain": [
       "T_Dist{Lathe.stats.var\"#cdf#9\",Lathe.stats.var\"#apply#8\"{Lathe.stats.NormalDist{Lathe.stats.var\"#cdf#7\"{Float64,Float64},Lathe.stats.var\"#apply#5\"{Float64,Float64}},Float64,Int64}}(-1.7778686324550592e-14, 235, Lathe.stats.var\"#apply#8\"{Lathe.stats.NormalDist{Lathe.stats.var\"#cdf#7\"{Float64,Float64},Lathe.stats.var\"#apply#5\"{Float64,Float64}},Float64,Int64}(Lathe.stats.NormalDist{Lathe.stats.var\"#cdf#7\"{Float64,Float64},Lathe.stats.var\"#apply#5\"{Float64,Float64}}(90.46367555955639, 8183.6765957446805, 235, Lathe.stats.var\"#cdf#7\"{Float64,Float64}(90.46367555955639, 8183.6765957446805), Lathe.stats.var\"#apply#5\"{Float64,Float64}(90.46367555955639, 8183.6765957446805)), -1.7778686324550592e-14, 235), Lathe.stats.var\"#cdf#9\"())"
      ]
     },
     "execution_count": 13,
     "metadata": {},
     "output_type": "execute_result"
    }
   ],
   "source": [
    "dist = T_Dist(df[!, Symbol(\"Deaths - cumulative total\")])"
   ]
  },
  {
   "cell_type": "code",
   "execution_count": 24,
   "metadata": {},
   "outputs": [
    {
     "name": "stdout",
     "output_type": "stream",
     "text": [
      "5.36415641012238e-156\n"
     ]
    },
    {
     "data": {
      "text/plain": [
       "true"
      ]
     },
     "execution_count": 24,
     "metadata": {},
     "output_type": "execute_result"
    }
   ],
   "source": [
    "TwoTailed(dist, community_trans[!, Symbol(\"Deaths - cumulative total\")])"
   ]
  },
  {
   "cell_type": "code",
   "execution_count": null,
   "metadata": {},
   "outputs": [],
   "source": []
  }
 ],
 "metadata": {
  "kernelspec": {
   "display_name": "Julia 1.5.3",
   "language": "julia",
   "name": "julia-1.5"
  },
  "language_info": {
   "file_extension": ".jl",
   "mimetype": "application/julia",
   "name": "julia",
   "version": "1.5.3"
  }
 },
 "nbformat": 4,
 "nbformat_minor": 4
}
